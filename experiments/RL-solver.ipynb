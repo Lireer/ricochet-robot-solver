{
 "cells": [
  {
   "cell_type": "code",
   "execution_count": 1,
   "id": "permanent-fifth",
   "metadata": {},
   "outputs": [
    {
     "name": "stdout",
     "output_type": "stream",
     "text": [
      "Processing ./ricochet_env-0.1.0-cp37-cp37m-manylinux2010_x86_64.whl\n",
      "Requirement already satisfied: gym in /home/ADS/scca1033/.conda/envs/ricochet/lib/python3.7/site-packages (from ricochet-env==0.1.0) (0.18.0)\n",
      "Requirement already satisfied: pyglet<=1.5.0,>=1.4.0 in /home/ADS/scca1033/.conda/envs/ricochet/lib/python3.7/site-packages (from gym->ricochet-env==0.1.0) (1.5.0)\n",
      "Requirement already satisfied: Pillow<=7.2.0 in /home/ADS/scca1033/.conda/envs/ricochet/lib/python3.7/site-packages (from gym->ricochet-env==0.1.0) (7.2.0)\n",
      "Requirement already satisfied: scipy in /home/ADS/scca1033/.conda/envs/ricochet/lib/python3.7/site-packages (from gym->ricochet-env==0.1.0) (1.6.1)\n",
      "Requirement already satisfied: cloudpickle<1.7.0,>=1.2.0 in /home/ADS/scca1033/.conda/envs/ricochet/lib/python3.7/site-packages (from gym->ricochet-env==0.1.0) (1.6.0)\n",
      "Requirement already satisfied: numpy>=1.10.4 in /home/ADS/scca1033/.conda/envs/ricochet/lib/python3.7/site-packages (from gym->ricochet-env==0.1.0) (1.19.5)\n",
      "Requirement already satisfied: future in /home/ADS/scca1033/.conda/envs/ricochet/lib/python3.7/site-packages (from pyglet<=1.5.0,>=1.4.0->gym->ricochet-env==0.1.0) (0.18.2)\n",
      "ricochet-env is already installed with the same version as the provided wheel. Use --force-reinstall to force an installation of the wheel.\n",
      "Requirement already satisfied: dopamine-rl in /home/ADS/scca1033/.conda/envs/ricochet/lib/python3.7/site-packages (3.1.9)\n",
      "Requirement already satisfied: absl-py>=0.9.0 in /home/ADS/scca1033/.conda/envs/ricochet/lib/python3.7/site-packages (from dopamine-rl) (0.11.0)\n",
      "Requirement already satisfied: jax>=0.1.72 in /home/ADS/scca1033/.conda/envs/ricochet/lib/python3.7/site-packages (from dopamine-rl) (0.2.9)\n",
      "Requirement already satisfied: tf-slim>=1.0 in /home/ADS/scca1033/.conda/envs/ricochet/lib/python3.7/site-packages (from dopamine-rl) (1.1.0)\n",
      "Requirement already satisfied: pandas>=0.24.2 in /home/ADS/scca1033/.conda/envs/ricochet/lib/python3.7/site-packages (from dopamine-rl) (1.2.2)\n",
      "Requirement already satisfied: jaxlib>=0.1.51 in /home/ADS/scca1033/.conda/envs/ricochet/lib/python3.7/site-packages (from dopamine-rl) (0.1.61)\n",
      "Requirement already satisfied: numpy>=1.16.4 in /home/ADS/scca1033/.conda/envs/ricochet/lib/python3.7/site-packages (from dopamine-rl) (1.19.5)\n",
      "Requirement already satisfied: tensorflow>=2.2.0 in /home/ADS/scca1033/.conda/envs/ricochet/lib/python3.7/site-packages (from dopamine-rl) (2.4.1)\n",
      "Requirement already satisfied: pygame>=1.9.2 in /home/ADS/scca1033/.conda/envs/ricochet/lib/python3.7/site-packages (from dopamine-rl) (2.0.1)\n",
      "Requirement already satisfied: Pillow>=7.0.0 in /home/ADS/scca1033/.conda/envs/ricochet/lib/python3.7/site-packages (from dopamine-rl) (7.2.0)\n",
      "Requirement already satisfied: gin-config>=0.3.0 in /home/ADS/scca1033/.conda/envs/ricochet/lib/python3.7/site-packages (from dopamine-rl) (0.4.0)\n",
      "Requirement already satisfied: flax>=0.2.0 in /home/ADS/scca1033/.conda/envs/ricochet/lib/python3.7/site-packages (from dopamine-rl) (0.3.1)\n",
      "Requirement already satisfied: gym[atari]>=0.13.1 in /home/ADS/scca1033/.conda/envs/ricochet/lib/python3.7/site-packages (from dopamine-rl) (0.18.0)\n",
      "Requirement already satisfied: opencv-python>=3.4.8.29 in /home/ADS/scca1033/.conda/envs/ricochet/lib/python3.7/site-packages (from dopamine-rl) (4.5.1.48)\n",
      "Requirement already satisfied: six in /home/ADS/scca1033/.conda/envs/ricochet/lib/python3.7/site-packages (from absl-py>=0.9.0->dopamine-rl) (1.15.0)\n",
      "Requirement already satisfied: msgpack in /home/ADS/scca1033/.conda/envs/ricochet/lib/python3.7/site-packages (from flax>=0.2.0->dopamine-rl) (1.0.2)\n",
      "Requirement already satisfied: matplotlib in /home/ADS/scca1033/.conda/envs/ricochet/lib/python3.7/site-packages (from flax>=0.2.0->dopamine-rl) (3.3.4)\n",
      "Requirement already satisfied: scipy in /home/ADS/scca1033/.conda/envs/ricochet/lib/python3.7/site-packages (from gym[atari]>=0.13.1->dopamine-rl) (1.6.1)\n",
      "Requirement already satisfied: pyglet<=1.5.0,>=1.4.0 in /home/ADS/scca1033/.conda/envs/ricochet/lib/python3.7/site-packages (from gym[atari]>=0.13.1->dopamine-rl) (1.5.0)\n",
      "Requirement already satisfied: cloudpickle<1.7.0,>=1.2.0 in /home/ADS/scca1033/.conda/envs/ricochet/lib/python3.7/site-packages (from gym[atari]>=0.13.1->dopamine-rl) (1.6.0)\n",
      "Requirement already satisfied: atari-py~=0.2.0 in /home/ADS/scca1033/.conda/envs/ricochet/lib/python3.7/site-packages (from gym[atari]>=0.13.1->dopamine-rl) (0.2.6)\n",
      "Requirement already satisfied: opt-einsum in /home/ADS/scca1033/.conda/envs/ricochet/lib/python3.7/site-packages (from jax>=0.1.72->dopamine-rl) (3.3.0)\n",
      "Requirement already satisfied: flatbuffers in /home/ADS/scca1033/.conda/envs/ricochet/lib/python3.7/site-packages (from jaxlib>=0.1.51->dopamine-rl) (1.12)\n",
      "Requirement already satisfied: python-dateutil>=2.7.3 in /home/ADS/scca1033/.conda/envs/ricochet/lib/python3.7/site-packages (from pandas>=0.24.2->dopamine-rl) (2.8.1)\n",
      "Requirement already satisfied: pytz>=2017.3 in /home/ADS/scca1033/.conda/envs/ricochet/lib/python3.7/site-packages (from pandas>=0.24.2->dopamine-rl) (2021.1)\n",
      "Requirement already satisfied: future in /home/ADS/scca1033/.conda/envs/ricochet/lib/python3.7/site-packages (from pyglet<=1.5.0,>=1.4.0->gym[atari]>=0.13.1->dopamine-rl) (0.18.2)\n",
      "Requirement already satisfied: gast==0.3.3 in /home/ADS/scca1033/.conda/envs/ricochet/lib/python3.7/site-packages (from tensorflow>=2.2.0->dopamine-rl) (0.3.3)\n",
      "Requirement already satisfied: google-pasta~=0.2 in /home/ADS/scca1033/.conda/envs/ricochet/lib/python3.7/site-packages (from tensorflow>=2.2.0->dopamine-rl) (0.2.0)\n",
      "Requirement already satisfied: astunparse~=1.6.3 in /home/ADS/scca1033/.conda/envs/ricochet/lib/python3.7/site-packages (from tensorflow>=2.2.0->dopamine-rl) (1.6.3)\n",
      "Requirement already satisfied: wheel~=0.35 in /home/ADS/scca1033/.conda/envs/ricochet/lib/python3.7/site-packages (from tensorflow>=2.2.0->dopamine-rl) (0.36.2)\n",
      "Requirement already satisfied: grpcio~=1.32.0 in /home/ADS/scca1033/.conda/envs/ricochet/lib/python3.7/site-packages (from tensorflow>=2.2.0->dopamine-rl) (1.32.0)\n",
      "Requirement already satisfied: keras-preprocessing~=1.1.2 in /home/ADS/scca1033/.conda/envs/ricochet/lib/python3.7/site-packages (from tensorflow>=2.2.0->dopamine-rl) (1.1.2)\n",
      "Requirement already satisfied: h5py~=2.10.0 in /home/ADS/scca1033/.conda/envs/ricochet/lib/python3.7/site-packages (from tensorflow>=2.2.0->dopamine-rl) (2.10.0)\n",
      "Requirement already satisfied: wrapt~=1.12.1 in /home/ADS/scca1033/.conda/envs/ricochet/lib/python3.7/site-packages (from tensorflow>=2.2.0->dopamine-rl) (1.12.1)\n",
      "Requirement already satisfied: tensorboard~=2.4 in /home/ADS/scca1033/.conda/envs/ricochet/lib/python3.7/site-packages (from tensorflow>=2.2.0->dopamine-rl) (2.4.1)\n",
      "Requirement already satisfied: tensorflow-estimator<2.5.0,>=2.4.0 in /home/ADS/scca1033/.conda/envs/ricochet/lib/python3.7/site-packages (from tensorflow>=2.2.0->dopamine-rl) (2.4.0)\n",
      "Requirement already satisfied: termcolor~=1.1.0 in /home/ADS/scca1033/.conda/envs/ricochet/lib/python3.7/site-packages (from tensorflow>=2.2.0->dopamine-rl) (1.1.0)\n",
      "Requirement already satisfied: typing-extensions~=3.7.4 in /home/ADS/scca1033/.conda/envs/ricochet/lib/python3.7/site-packages (from tensorflow>=2.2.0->dopamine-rl) (3.7.4.3)\n",
      "Requirement already satisfied: protobuf>=3.9.2 in /home/ADS/scca1033/.conda/envs/ricochet/lib/python3.7/site-packages (from tensorflow>=2.2.0->dopamine-rl) (3.15.3)\n",
      "Requirement already satisfied: google-auth-oauthlib<0.5,>=0.4.1 in /home/ADS/scca1033/.conda/envs/ricochet/lib/python3.7/site-packages (from tensorboard~=2.4->tensorflow>=2.2.0->dopamine-rl) (0.4.2)\n",
      "Requirement already satisfied: setuptools>=41.0.0 in /home/ADS/scca1033/.conda/envs/ricochet/lib/python3.7/site-packages (from tensorboard~=2.4->tensorflow>=2.2.0->dopamine-rl) (52.0.0.post20210125)\n",
      "Requirement already satisfied: requests<3,>=2.21.0 in /home/ADS/scca1033/.conda/envs/ricochet/lib/python3.7/site-packages (from tensorboard~=2.4->tensorflow>=2.2.0->dopamine-rl) (2.25.1)\n",
      "Requirement already satisfied: markdown>=2.6.8 in /home/ADS/scca1033/.conda/envs/ricochet/lib/python3.7/site-packages (from tensorboard~=2.4->tensorflow>=2.2.0->dopamine-rl) (3.3.4)\n",
      "Requirement already satisfied: tensorboard-plugin-wit>=1.6.0 in /home/ADS/scca1033/.conda/envs/ricochet/lib/python3.7/site-packages (from tensorboard~=2.4->tensorflow>=2.2.0->dopamine-rl) (1.8.0)\n",
      "Requirement already satisfied: google-auth<2,>=1.6.3 in /home/ADS/scca1033/.conda/envs/ricochet/lib/python3.7/site-packages (from tensorboard~=2.4->tensorflow>=2.2.0->dopamine-rl) (1.27.0)\n",
      "Requirement already satisfied: werkzeug>=0.11.15 in /home/ADS/scca1033/.conda/envs/ricochet/lib/python3.7/site-packages (from tensorboard~=2.4->tensorflow>=2.2.0->dopamine-rl) (1.0.1)\n",
      "Requirement already satisfied: pyasn1-modules>=0.2.1 in /home/ADS/scca1033/.conda/envs/ricochet/lib/python3.7/site-packages (from google-auth<2,>=1.6.3->tensorboard~=2.4->tensorflow>=2.2.0->dopamine-rl) (0.2.8)\n",
      "Requirement already satisfied: rsa<5,>=3.1.4 in /home/ADS/scca1033/.conda/envs/ricochet/lib/python3.7/site-packages (from google-auth<2,>=1.6.3->tensorboard~=2.4->tensorflow>=2.2.0->dopamine-rl) (4.7.2)\n",
      "Requirement already satisfied: cachetools<5.0,>=2.0.0 in /home/ADS/scca1033/.conda/envs/ricochet/lib/python3.7/site-packages (from google-auth<2,>=1.6.3->tensorboard~=2.4->tensorflow>=2.2.0->dopamine-rl) (4.2.1)\n",
      "Requirement already satisfied: requests-oauthlib>=0.7.0 in /home/ADS/scca1033/.conda/envs/ricochet/lib/python3.7/site-packages (from google-auth-oauthlib<0.5,>=0.4.1->tensorboard~=2.4->tensorflow>=2.2.0->dopamine-rl) (1.3.0)\n",
      "Requirement already satisfied: importlib-metadata in /home/ADS/scca1033/.conda/envs/ricochet/lib/python3.7/site-packages (from markdown>=2.6.8->tensorboard~=2.4->tensorflow>=2.2.0->dopamine-rl) (3.7.0)\n",
      "Requirement already satisfied: pyasn1<0.5.0,>=0.4.6 in /home/ADS/scca1033/.conda/envs/ricochet/lib/python3.7/site-packages (from pyasn1-modules>=0.2.1->google-auth<2,>=1.6.3->tensorboard~=2.4->tensorflow>=2.2.0->dopamine-rl) (0.4.8)\n"
     ]
    },
    {
     "name": "stdout",
     "output_type": "stream",
     "text": [
      "Requirement already satisfied: idna<3,>=2.5 in /home/ADS/scca1033/.conda/envs/ricochet/lib/python3.7/site-packages (from requests<3,>=2.21.0->tensorboard~=2.4->tensorflow>=2.2.0->dopamine-rl) (2.10)\n",
      "Requirement already satisfied: chardet<5,>=3.0.2 in /home/ADS/scca1033/.conda/envs/ricochet/lib/python3.7/site-packages (from requests<3,>=2.21.0->tensorboard~=2.4->tensorflow>=2.2.0->dopamine-rl) (4.0.0)\n",
      "Requirement already satisfied: urllib3<1.27,>=1.21.1 in /home/ADS/scca1033/.conda/envs/ricochet/lib/python3.7/site-packages (from requests<3,>=2.21.0->tensorboard~=2.4->tensorflow>=2.2.0->dopamine-rl) (1.26.3)\n",
      "Requirement already satisfied: certifi>=2017.4.17 in /home/ADS/scca1033/.conda/envs/ricochet/lib/python3.7/site-packages (from requests<3,>=2.21.0->tensorboard~=2.4->tensorflow>=2.2.0->dopamine-rl) (2020.12.5)\n",
      "Requirement already satisfied: oauthlib>=3.0.0 in /home/ADS/scca1033/.conda/envs/ricochet/lib/python3.7/site-packages (from requests-oauthlib>=0.7.0->google-auth-oauthlib<0.5,>=0.4.1->tensorboard~=2.4->tensorflow>=2.2.0->dopamine-rl) (3.1.0)\n",
      "Requirement already satisfied: zipp>=0.5 in /home/ADS/scca1033/.conda/envs/ricochet/lib/python3.7/site-packages (from importlib-metadata->markdown>=2.6.8->tensorboard~=2.4->tensorflow>=2.2.0->dopamine-rl) (3.4.0)\n",
      "Requirement already satisfied: kiwisolver>=1.0.1 in /home/ADS/scca1033/.conda/envs/ricochet/lib/python3.7/site-packages (from matplotlib->flax>=0.2.0->dopamine-rl) (1.3.1)\n",
      "Requirement already satisfied: cycler>=0.10 in /home/ADS/scca1033/.conda/envs/ricochet/lib/python3.7/site-packages (from matplotlib->flax>=0.2.0->dopamine-rl) (0.10.0)\n",
      "Requirement already satisfied: pyparsing!=2.0.4,!=2.1.2,!=2.1.6,>=2.0.3 in /home/ADS/scca1033/.conda/envs/ricochet/lib/python3.7/site-packages (from matplotlib->flax>=0.2.0->dopamine-rl) (2.4.7)\n"
     ]
    }
   ],
   "source": [
    "# !pip install ricochet_env-0.1.0-cp37-cp37m-manylinux2010_x86_64.whl # use to install ricochet_env\n",
    "!pip install gym\n",
    "!pip install dopamine-rl"
   ]
  },
  {
   "cell_type": "code",
   "execution_count": 2,
   "id": "raised-natural",
   "metadata": {},
   "outputs": [
    {
     "name": "stdout",
     "output_type": "stream",
     "text": [
      "WARNING:tensorflow:From /home/ADS/scca1033/.conda/envs/ricochet/lib/python3.7/site-packages/tensorflow/python/compat/v2_compat.py:96: disable_resource_variables (from tensorflow.python.ops.variable_scope) is deprecated and will be removed in a future version.\n",
      "Instructions for updating:\n",
      "non-resource variables are not supported in the long term\n"
     ]
    },
    {
     "name": "stderr",
     "output_type": "stream",
     "text": [
      "/home/ADS/scca1033/.conda/envs/ricochet/lib/python3.7/site-packages/flax/nn/__init__.py:35: DeprecationWarning: The `flax.nn` module is Deprecated, use `flax.linen` instead. Learn more and find an upgrade guide at https://github.com/google/flax/blob/master/flax/linen/README.md\n",
      "  warnings.warn(\"The `flax.nn` module is Deprecated, use `flax.linen` instead. Learn more and find an upgrade guide at https://github.com/google/flax/blob/master/flax/linen/README.md\", DeprecationWarning)\n"
     ]
    }
   ],
   "source": [
    "import os\n",
    "import numpy as np\n",
    "import tensorflow.compat.v1 as tf\n",
    "import gin\n",
    "import gym\n",
    "import dopamine\n",
    "from dopamine.discrete_domains import run_experiment\n",
    "from gym.envs.registration import register\n",
    "from ricochet_env import RicochetEnv\n",
    "from dopamine.discrete_domains.atari_lib import RainbowNetworkType\n",
    "\n",
    "# from IPython.core.debugger import set_trace\n",
    "\n",
    "tf.disable_v2_behavior()"
   ]
  },
  {
   "cell_type": "code",
   "execution_count": 3,
   "id": "fabulous-desert",
   "metadata": {},
   "outputs": [
    {
     "data": {
      "text/plain": [
       "[PhysicalDevice(name='/physical_device:CPU:0', device_type='CPU')]"
      ]
     },
     "metadata": {},
     "output_type": "display_data"
    },
    {
     "data": {
      "text/plain": [
       "[]"
      ]
     },
     "metadata": {},
     "output_type": "display_data"
    },
    {
     "data": {
      "text/plain": [
       "True"
      ]
     },
     "execution_count": 3,
     "metadata": {},
     "output_type": "execute_result"
    }
   ],
   "source": [
    "display(tf.config.list_physical_devices('CPU'))\n",
    "display(tf.config.list_physical_devices('GPU'))\n",
    "tf.test.is_built_with_cuda()"
   ]
  },
  {
   "cell_type": "code",
   "execution_count": 4,
   "id": "northern-discharge",
   "metadata": {},
   "outputs": [],
   "source": [
    "register(\n",
    "    id = 'ricochet-easiest-v0',\n",
    "    entry_point = 'ricochet_env:RicochetEnv',\n",
    "    kwargs = {\n",
    "        'board_size': 6,\n",
    "        'walls': 'fixed',\n",
    "        'targets': [(0, (4,4))],\n",
    "        'robots': [(3,5), (2,0), (5,4), (3,2)],\n",
    "        'seed': 23571113171923,\n",
    "        'observation': \"tensor\"\n",
    "    }\n",
    ")\n",
    "\n",
    "register(\n",
    "    id = 'ricochet-small-random-robots-v0',\n",
    "    entry_point = 'ricochet_env:RicochetEnv',\n",
    "    kwargs = {\n",
    "        'board_size': 6,\n",
    "        'walls': 'fixed',\n",
    "        'targets': [(0, (4,4))],\n",
    "        'seed': 23571113171923,\n",
    "        'observation': \"tensor\"\n",
    "    }\n",
    ")\n",
    "\n",
    "\n",
    "register(\n",
    "    id = 'ricochet-small-one-board-random-robots-v0',\n",
    "    entry_point = 'ricochet_env:RicochetEnv',\n",
    "    kwargs = {\n",
    "        'board_size': 6,\n",
    "        'walls': 1,\n",
    "        'targets': \"variants\",\n",
    "        'seed': 23571113171923,\n",
    "        'observation': \"tensor\"\n",
    "    }\n",
    ")\n",
    "\n",
    "register(\n",
    "    id = 'ricochet-small-two-board-random-robots-v0',\n",
    "    entry_point = 'ricochet_env:RicochetEnv',\n",
    "    kwargs = {\n",
    "        'board_size': 6,\n",
    "        'walls': 2,\n",
    "        'targets': \"variants\",\n",
    "        'seed': 23571113171923,\n",
    "        'observation': \"tensor\"\n",
    "    }\n",
    ")\n",
    "\n",
    "register(\n",
    "    id = 'ricochet-small-standard-v0',\n",
    "    entry_point = 'ricochet_env:RicochetEnv',\n",
    "    kwargs = {\n",
    "        'board_size': 6,\n",
    "        'walls': 32,\n",
    "        'observation': 'tensor',\n",
    "    }\n",
    ")\n",
    "\n",
    "register(\n",
    "    id='ricochet-standard-v0',\n",
    "    entry_point='ricochet_env:RicochetEnv',\n",
    ")"
   ]
  },
  {
   "cell_type": "markdown",
   "id": "north-daily",
   "metadata": {},
   "source": [
    "The `ricochet-easiest-v0` can be solved in three moves.\n",
    "\n",
    "\n",
    "    ┏━━━━┯━━━━┯━━━━┳━━━━┯━━━━┯━━━━┓\n",
    "    ┃    │    │ br ┃    │    │    ┃    r* = red *\n",
    "    ┠────┼────┼────╀────┼────┼────┨    b* = blue *\n",
    "    ┃    │    │    │    │    │    ┃    g* = green *\n",
    "    ┠────┼────┾━━━━╅────┼────┼────┨    y* = yellow *\n",
    "    ┃    │    │    ┃ yr │    │    ┃    \n",
    "    ┣━━━━┽────┼────╀────┼────┾━━━━┫    *r = * robot\n",
    "    ┃    │    │    │    │    │    ┃    *t = * target\n",
    "    ┠────┼────┼────┼────┾━━━━╅────┨\n",
    "    ┃    │    │    │    │ rt ┃ gr ┃    st = spiral target\n",
    "    ┠────┼────┼────╁────┼────╀────┨\n",
    "    ┃    │    │    ┃ rr │    │    ┃\n",
    "    ┗━━━━┷━━━━┷━━━━┻━━━━┷━━━━┷━━━━┛\n",
    "\n",
    "Solution:\n",
    "\n",
    "1. green down\n",
    "2. red right\n",
    "3. red up"
   ]
  },
  {
   "cell_type": "code",
   "execution_count": 5,
   "id": "cardiovascular-shannon",
   "metadata": {},
   "outputs": [],
   "source": [
    "BASE_PATH = './ricochet_runs'\n",
    "LOG_PATH = os.path.join(BASE_PATH, 'tb_logs')\n",
    "RAINBOW_PATH = os.path.join(BASE_PATH, 'ricochet-small-two-board-random-robots')"
   ]
  },
  {
   "cell_type": "code",
   "execution_count": 6,
   "id": "breeding-valley",
   "metadata": {},
   "outputs": [
    {
     "data": {
      "text/plain": [
       "'OBSERVATION_SPACE:'"
      ]
     },
     "metadata": {},
     "output_type": "display_data"
    },
    {
     "data": {
      "text/plain": [
       "(6, 6, 11)"
      ]
     },
     "metadata": {},
     "output_type": "display_data"
    },
    {
     "data": {
      "text/plain": [
       "'OBSERVATION_TYPE:'"
      ]
     },
     "metadata": {},
     "output_type": "display_data"
    },
    {
     "data": {
      "text/plain": [
       "tf.int16"
      ]
     },
     "metadata": {},
     "output_type": "display_data"
    },
    {
     "data": {
      "text/plain": [
       "'BOARD_SIZE:'"
      ]
     },
     "metadata": {},
     "output_type": "display_data"
    },
    {
     "data": {
      "text/plain": [
       "6"
      ]
     },
     "metadata": {},
     "output_type": "display_data"
    },
    {
     "data": {
      "text/plain": [
       "'SUMMARY_WRITER:'"
      ]
     },
     "metadata": {},
     "output_type": "display_data"
    },
    {
     "data": {
      "text/plain": [
       "<tensorflow.python.summary.writer.writer.FileWriter at 0x7f8c0e4bced0>"
      ]
     },
     "metadata": {},
     "output_type": "display_data"
    }
   ],
   "source": [
    "env = gym.make('ricochet-small-two-board-random-robots-v0')\n",
    "gin.constant('OBSERVATION_SPACE', env.observation_space.shape)\n",
    "gin.constant('OBSERVATION_TYPE', tf.int16)\n",
    "gin.constant('BOARD_SIZE', env.board_size())\n",
    "gin.constant('SUMMARY_WRITER', tf.summary.FileWriter(LOG_PATH))"
   ]
  },
  {
   "cell_type": "code",
   "execution_count": 7,
   "id": "physical-wisconsin",
   "metadata": {},
   "outputs": [],
   "source": [
    "@gin.configurable\n",
    "class RainbowNetworkLocal(tf.keras.Model):\n",
    "  \"\"\"The network used to compute agent's return distributions.\"\"\"\n",
    "\n",
    "  def __init__(self, num_actions, num_atoms, support, name=None, board_size=None):\n",
    "    \"\"\"Creates the layers used calculating return distributions.\n",
    "    Args:\n",
    "      num_actions: int, number of actions.\n",
    "      num_atoms: int, the number of buckets of the value function distribution.\n",
    "      support: tf.linspace, the support of the Q-value distribution.\n",
    "      name: str, used to crete scope for network parameters.\n",
    "    \"\"\"\n",
    "    super(RainbowNetworkLocal, self).__init__(name=name)\n",
    "    activation_fn = tf.keras.activations.relu\n",
    "    regularizer = None\n",
    "    size = board_size\n",
    "    self.num_actions = num_actions\n",
    "    self.num_atoms = num_atoms\n",
    "    self.support = support\n",
    "    # set_trace()\n",
    "    self.kernel_initializer = tf.keras.initializers.VarianceScaling(\n",
    "        scale=1.0 / np.sqrt(3.0), mode='fan_in', distribution='uniform')\n",
    "    # Defining layers.\n",
    "\n",
    "    self.conv1 = tf.keras.layers.Conv2D(\n",
    "        33, [size, size], strides=2, padding='same', activation=activation_fn,\n",
    "        kernel_initializer=self.kernel_initializer, name='Conv',\n",
    "        input_shape=(size, size, 11), activity_regularizer=regularizer)\n",
    "    self.norm1 = tf.keras.layers.BatchNormalization()\n",
    "    self.max_pool1 = tf.keras.layers.MaxPooling2D(\n",
    "        pool_size=2, strides=1, padding=\"same\")\n",
    "    self.conv2 = tf.keras.layers.Conv2D(\n",
    "        66, [int(size/2), int(size/2)], strides=1, padding='same',\n",
    "        activation=activation_fn, kernel_initializer=self.kernel_initializer,\n",
    "        name='Conv', activity_regularizer=regularizer)\n",
    "    self.norm2 = tf.keras.layers.BatchNormalization()\n",
    "    self.max_pool2 = tf.keras.layers.MaxPooling2D(\n",
    "        pool_size=2, strides=1, padding=\"same\")\n",
    "    self.flatten = tf.keras.layers.Flatten()\n",
    "    self.dense1 = tf.keras.layers.Dense(\n",
    "        512, activation=activation_fn,\n",
    "        kernel_initializer=self.kernel_initializer, name='fully_connected')\n",
    "    self.dense2 = tf.keras.layers.Dense(\n",
    "        num_actions * num_atoms, kernel_initializer=self.kernel_initializer,\n",
    "        name='fully_connected')\n",
    "\n",
    "  def call(self, state):\n",
    "    \"\"\"\n",
    "    Args:\n",
    "      state: Tensor, input tensor.\n",
    "    Returns:\n",
    "      collections.namedtuple, output ops (graph mode) or output tensors (eager).\n",
    "    \"\"\"\n",
    "    x = tf.cast(tf.squeeze(state, [4]), tf.float32)\n",
    "    x = self.conv1(x)\n",
    "    x = self.norm1(x)\n",
    "    x = self.max_pool1(x)\n",
    "    x = self.conv2(x)\n",
    "    x = self.norm2(x)\n",
    "    x = self.max_pool2(x)\n",
    "    x = self.flatten(x)\n",
    "    x = self.dense1(x)\n",
    "    x = self.dense2(x)\n",
    "    logits = tf.reshape(x, [-1, self.num_actions, self.num_atoms])\n",
    "    probabilities = tf.keras.activations.softmax(logits)\n",
    "    q_values = tf.reduce_sum(self.support * probabilities, axis=2)\n",
    "    return RainbowNetworkType(q_values, logits, probabilities)"
   ]
  },
  {
   "cell_type": "code",
   "execution_count": 8,
   "id": "neither-friendship",
   "metadata": {},
   "outputs": [
    {
     "data": {
      "text/plain": [
       "([],\n",
       " ['dopamine.agents.rainbow.rainbow_agent',\n",
       "  'dopamine.discrete_domains.atari_lib',\n",
       "  'dopamine.discrete_domains.run_experiment',\n",
       "  'dopamine.replay_memory.prioritized_replay_buffer',\n",
       "  'gin.tf.external_configurables'])"
      ]
     },
     "execution_count": 8,
     "metadata": {},
     "output_type": "execute_result"
    }
   ],
   "source": [
    "rainbow_config = \"\"\"\n",
    "import dopamine.agents.rainbow.rainbow_agent\n",
    "import dopamine.discrete_domains.atari_lib\n",
    "import dopamine.discrete_domains.run_experiment\n",
    "import dopamine.replay_memory.prioritized_replay_buffer\n",
    "import gin.tf.external_configurables\n",
    "\n",
    "RainbowAgent.observation_shape = %OBSERVATION_SPACE\n",
    "RainbowAgent.observation_dtype = %OBSERVATION_TYPE\n",
    "RainbowAgent.num_atoms = 51\n",
    "RainbowAgent.stack_size = 1\n",
    "RainbowAgent.network = @RainbowNetworkLocal\n",
    "RainbowAgent.vmin = 0.\n",
    "RainbowAgent.vmax = 1.\n",
    "RainbowAgent.gamma = 0.99\n",
    "RainbowAgent.update_horizon = 3\n",
    "RainbowAgent.min_replay_history = 2000  # agent steps\n",
    "RainbowAgent.update_period = 4\n",
    "RainbowAgent.target_update_period = 1000  # agent steps\n",
    "RainbowAgent.epsilon_train = 0.01\n",
    "RainbowAgent.epsilon_eval = 0.001\n",
    "RainbowAgent.epsilon_decay_period = 500000  # agent steps\n",
    "RainbowAgent.replay_scheme = 'prioritized'\n",
    "RainbowAgent.tf_device = '/gpu:0'  # use '/cpu:*' for non-GPU version\n",
    "RainbowAgent.optimizer = @tf.train.AdamOptimizer()\n",
    "\n",
    "RainbowNetworkLocal.board_size = %BOARD_SIZE\n",
    "\n",
    "\n",
    "tf.train.AdamOptimizer.learning_rate = 0.0005\n",
    "tf.train.AdamOptimizer.epsilon = 0.00000001\n",
    "\n",
    "\n",
    "create_gym_environment.environment_name = 'ricochet-small-two-board-random-robots'\n",
    "create_gym_environment.version = 'v0'\n",
    "create_agent.agent_name = 'rainbow'\n",
    "# create_agent.summary_writer = %SUMMARY_WRITER\n",
    "# create_agent.debug_mode = True\n",
    "TrainRunner.create_environment_fn = @gym_lib.create_gym_environment\n",
    "Runner.num_iterations = 500\n",
    "Runner.training_steps = 10000  # agent steps\n",
    "Runner.evaluation_steps = 100  # agent steps\n",
    "Runner.max_steps_per_episode = 5000  # agent steps\n",
    "\n",
    "WrappedPrioritizedReplayBuffer.replay_capacity = 100000\n",
    "WrappedPrioritizedReplayBuffer.batch_size = 32\n",
    "\"\"\"\n",
    "gin.parse_config(rainbow_config, skip_unknown=False)"
   ]
  },
  {
   "cell_type": "code",
   "execution_count": 9,
   "id": "dirty-exemption",
   "metadata": {},
   "outputs": [
    {
     "data": {
      "text/plain": [
       "Reusing TensorBoard on port 6006 (pid 3556396), started 11:57:36 ago. (Use '!kill 3556396' to kill it.)"
      ]
     },
     "metadata": {},
     "output_type": "display_data"
    },
    {
     "data": {
      "text/html": [
       "\n",
       "      <iframe id=\"tensorboard-frame-3b91ed08f46d0366\" width=\"100%\" height=\"800\" frameborder=\"0\">\n",
       "      </iframe>\n",
       "      <script>\n",
       "        (function() {\n",
       "          const frame = document.getElementById(\"tensorboard-frame-3b91ed08f46d0366\");\n",
       "          const url = new URL(\"/\", window.location);\n",
       "          const port = 6006;\n",
       "          if (port) {\n",
       "            url.port = port;\n",
       "          }\n",
       "          frame.src = url;\n",
       "        })();\n",
       "      </script>\n",
       "    "
      ],
      "text/plain": [
       "<IPython.core.display.HTML object>"
      ]
     },
     "metadata": {},
     "output_type": "display_data"
    }
   ],
   "source": [
    "%load_ext tensorboard\n",
    "%load_ext autoreload\n",
    "%matplotlib inline\n",
    "%tensorboard --logdir RAINBOW_PATH/logs"
   ]
  },
  {
   "cell_type": "code",
   "execution_count": 10,
   "id": "computational-spectacular",
   "metadata": {},
   "outputs": [
    {
     "data": {
      "text/plain": [
       "6"
      ]
     },
     "metadata": {},
     "output_type": "display_data"
    },
    {
     "data": {
      "text/plain": [
       "6"
      ]
     },
     "metadata": {},
     "output_type": "display_data"
    },
    {
     "name": "stdout",
     "output_type": "stream",
     "text": [
      "Will train Rainbow agent, please be patient, may be a while...\n",
      "WARNING:tensorflow:From /home/ADS/scca1033/.conda/envs/ricochet/lib/python3.7/site-packages/tensorflow/python/training/saver.py:970: remove_checkpoint (from tensorflow.python.training.checkpoint_management) is deprecated and will be removed in a future version.\n",
      "Instructions for updating:\n",
      "Use standard file APIs to delete files with this prefix.\n"
     ]
    },
    {
     "name": "stderr",
     "output_type": "stream",
     "text": [
      "WARNING:tensorflow:From /home/ADS/scca1033/.conda/envs/ricochet/lib/python3.7/site-packages/tensorflow/python/training/saver.py:970: remove_checkpoint (from tensorflow.python.training.checkpoint_management) is deprecated and will be removed in a future version.\n",
      "Instructions for updating:\n",
      "Use standard file APIs to delete files with this prefix.\n"
     ]
    },
    {
     "name": "stdout",
     "output_type": "stream",
     "text": [
      "Steps executed: 2935 Episode length: 3 Return: 1.00000\r"
     ]
    },
    {
     "ename": "KeyboardInterrupt",
     "evalue": "",
     "output_type": "error",
     "traceback": [
      "\u001b[0;31m---------------------------------------------------------------------------\u001b[0m",
      "\u001b[0;31mKeyboardInterrupt\u001b[0m                         Traceback (most recent call last)",
      "\u001b[0;32m<ipython-input-10-9206725c0ef9>\u001b[0m in \u001b[0;36m<module>\u001b[0;34m\u001b[0m\n\u001b[0;32m----> 1\u001b[0;31m \u001b[0mget_ipython\u001b[0m\u001b[0;34m(\u001b[0m\u001b[0;34m)\u001b[0m\u001b[0;34m.\u001b[0m\u001b[0mrun_cell_magic\u001b[0m\u001b[0;34m(\u001b[0m\u001b[0;34m'timeit'\u001b[0m\u001b[0;34m,\u001b[0m \u001b[0;34m'-n1 -r1'\u001b[0m\u001b[0;34m,\u001b[0m \u001b[0;34m\"\\ndqn_runner = run_experiment.create_runner(RAINBOW_PATH, schedule='continuous_train')\\nprint('Will train Rainbow agent, please be patient, may be a while...')\\ndqn_runner.run_experiment()\\nprint('Done training!')\\n\"\u001b[0m\u001b[0;34m)\u001b[0m\u001b[0;34m\u001b[0m\u001b[0;34m\u001b[0m\u001b[0m\n\u001b[0m",
      "\u001b[0;32m~/.conda/envs/ricochet/lib/python3.7/site-packages/IPython/core/interactiveshell.py\u001b[0m in \u001b[0;36mrun_cell_magic\u001b[0;34m(self, magic_name, line, cell)\u001b[0m\n\u001b[1;32m   2389\u001b[0m             \u001b[0;32mwith\u001b[0m \u001b[0mself\u001b[0m\u001b[0;34m.\u001b[0m\u001b[0mbuiltin_trap\u001b[0m\u001b[0;34m:\u001b[0m\u001b[0;34m\u001b[0m\u001b[0;34m\u001b[0m\u001b[0m\n\u001b[1;32m   2390\u001b[0m                 \u001b[0margs\u001b[0m \u001b[0;34m=\u001b[0m \u001b[0;34m(\u001b[0m\u001b[0mmagic_arg_s\u001b[0m\u001b[0;34m,\u001b[0m \u001b[0mcell\u001b[0m\u001b[0;34m)\u001b[0m\u001b[0;34m\u001b[0m\u001b[0;34m\u001b[0m\u001b[0m\n\u001b[0;32m-> 2391\u001b[0;31m                 \u001b[0mresult\u001b[0m \u001b[0;34m=\u001b[0m \u001b[0mfn\u001b[0m\u001b[0;34m(\u001b[0m\u001b[0;34m*\u001b[0m\u001b[0margs\u001b[0m\u001b[0;34m,\u001b[0m \u001b[0;34m**\u001b[0m\u001b[0mkwargs\u001b[0m\u001b[0;34m)\u001b[0m\u001b[0;34m\u001b[0m\u001b[0;34m\u001b[0m\u001b[0m\n\u001b[0m\u001b[1;32m   2392\u001b[0m             \u001b[0;32mreturn\u001b[0m \u001b[0mresult\u001b[0m\u001b[0;34m\u001b[0m\u001b[0;34m\u001b[0m\u001b[0m\n\u001b[1;32m   2393\u001b[0m \u001b[0;34m\u001b[0m\u001b[0m\n",
      "\u001b[0;32m<decorator-gen-53>\u001b[0m in \u001b[0;36mtimeit\u001b[0;34m(self, line, cell, local_ns)\u001b[0m\n",
      "\u001b[0;32m~/.conda/envs/ricochet/lib/python3.7/site-packages/IPython/core/magic.py\u001b[0m in \u001b[0;36m<lambda>\u001b[0;34m(f, *a, **k)\u001b[0m\n\u001b[1;32m    185\u001b[0m     \u001b[0;31m# but it's overkill for just that one bit of state.\u001b[0m\u001b[0;34m\u001b[0m\u001b[0;34m\u001b[0m\u001b[0;34m\u001b[0m\u001b[0m\n\u001b[1;32m    186\u001b[0m     \u001b[0;32mdef\u001b[0m \u001b[0mmagic_deco\u001b[0m\u001b[0;34m(\u001b[0m\u001b[0marg\u001b[0m\u001b[0;34m)\u001b[0m\u001b[0;34m:\u001b[0m\u001b[0;34m\u001b[0m\u001b[0;34m\u001b[0m\u001b[0m\n\u001b[0;32m--> 187\u001b[0;31m         \u001b[0mcall\u001b[0m \u001b[0;34m=\u001b[0m \u001b[0;32mlambda\u001b[0m \u001b[0mf\u001b[0m\u001b[0;34m,\u001b[0m \u001b[0;34m*\u001b[0m\u001b[0ma\u001b[0m\u001b[0;34m,\u001b[0m \u001b[0;34m**\u001b[0m\u001b[0mk\u001b[0m\u001b[0;34m:\u001b[0m \u001b[0mf\u001b[0m\u001b[0;34m(\u001b[0m\u001b[0;34m*\u001b[0m\u001b[0ma\u001b[0m\u001b[0;34m,\u001b[0m \u001b[0;34m**\u001b[0m\u001b[0mk\u001b[0m\u001b[0;34m)\u001b[0m\u001b[0;34m\u001b[0m\u001b[0;34m\u001b[0m\u001b[0m\n\u001b[0m\u001b[1;32m    188\u001b[0m \u001b[0;34m\u001b[0m\u001b[0m\n\u001b[1;32m    189\u001b[0m         \u001b[0;32mif\u001b[0m \u001b[0mcallable\u001b[0m\u001b[0;34m(\u001b[0m\u001b[0marg\u001b[0m\u001b[0;34m)\u001b[0m\u001b[0;34m:\u001b[0m\u001b[0;34m\u001b[0m\u001b[0;34m\u001b[0m\u001b[0m\n",
      "\u001b[0;32m~/.conda/envs/ricochet/lib/python3.7/site-packages/IPython/core/magics/execution.py\u001b[0m in \u001b[0;36mtimeit\u001b[0;34m(self, line, cell, local_ns)\u001b[0m\n\u001b[1;32m   1171\u001b[0m                     \u001b[0;32mbreak\u001b[0m\u001b[0;34m\u001b[0m\u001b[0;34m\u001b[0m\u001b[0m\n\u001b[1;32m   1172\u001b[0m \u001b[0;34m\u001b[0m\u001b[0m\n\u001b[0;32m-> 1173\u001b[0;31m         \u001b[0mall_runs\u001b[0m \u001b[0;34m=\u001b[0m \u001b[0mtimer\u001b[0m\u001b[0;34m.\u001b[0m\u001b[0mrepeat\u001b[0m\u001b[0;34m(\u001b[0m\u001b[0mrepeat\u001b[0m\u001b[0;34m,\u001b[0m \u001b[0mnumber\u001b[0m\u001b[0;34m)\u001b[0m\u001b[0;34m\u001b[0m\u001b[0;34m\u001b[0m\u001b[0m\n\u001b[0m\u001b[1;32m   1174\u001b[0m         \u001b[0mbest\u001b[0m \u001b[0;34m=\u001b[0m \u001b[0mmin\u001b[0m\u001b[0;34m(\u001b[0m\u001b[0mall_runs\u001b[0m\u001b[0;34m)\u001b[0m \u001b[0;34m/\u001b[0m \u001b[0mnumber\u001b[0m\u001b[0;34m\u001b[0m\u001b[0;34m\u001b[0m\u001b[0m\n\u001b[1;32m   1175\u001b[0m         \u001b[0mworst\u001b[0m \u001b[0;34m=\u001b[0m \u001b[0mmax\u001b[0m\u001b[0;34m(\u001b[0m\u001b[0mall_runs\u001b[0m\u001b[0;34m)\u001b[0m \u001b[0;34m/\u001b[0m \u001b[0mnumber\u001b[0m\u001b[0;34m\u001b[0m\u001b[0;34m\u001b[0m\u001b[0m\n",
      "\u001b[0;32m~/.conda/envs/ricochet/lib/python3.7/timeit.py\u001b[0m in \u001b[0;36mrepeat\u001b[0;34m(self, repeat, number)\u001b[0m\n\u001b[1;32m    203\u001b[0m         \u001b[0mr\u001b[0m \u001b[0;34m=\u001b[0m \u001b[0;34m[\u001b[0m\u001b[0;34m]\u001b[0m\u001b[0;34m\u001b[0m\u001b[0;34m\u001b[0m\u001b[0m\n\u001b[1;32m    204\u001b[0m         \u001b[0;32mfor\u001b[0m \u001b[0mi\u001b[0m \u001b[0;32min\u001b[0m \u001b[0mrange\u001b[0m\u001b[0;34m(\u001b[0m\u001b[0mrepeat\u001b[0m\u001b[0;34m)\u001b[0m\u001b[0;34m:\u001b[0m\u001b[0;34m\u001b[0m\u001b[0;34m\u001b[0m\u001b[0m\n\u001b[0;32m--> 205\u001b[0;31m             \u001b[0mt\u001b[0m \u001b[0;34m=\u001b[0m \u001b[0mself\u001b[0m\u001b[0;34m.\u001b[0m\u001b[0mtimeit\u001b[0m\u001b[0;34m(\u001b[0m\u001b[0mnumber\u001b[0m\u001b[0;34m)\u001b[0m\u001b[0;34m\u001b[0m\u001b[0;34m\u001b[0m\u001b[0m\n\u001b[0m\u001b[1;32m    206\u001b[0m             \u001b[0mr\u001b[0m\u001b[0;34m.\u001b[0m\u001b[0mappend\u001b[0m\u001b[0;34m(\u001b[0m\u001b[0mt\u001b[0m\u001b[0;34m)\u001b[0m\u001b[0;34m\u001b[0m\u001b[0;34m\u001b[0m\u001b[0m\n\u001b[1;32m    207\u001b[0m         \u001b[0;32mreturn\u001b[0m \u001b[0mr\u001b[0m\u001b[0;34m\u001b[0m\u001b[0;34m\u001b[0m\u001b[0m\n",
      "\u001b[0;32m~/.conda/envs/ricochet/lib/python3.7/site-packages/IPython/core/magics/execution.py\u001b[0m in \u001b[0;36mtimeit\u001b[0;34m(self, number)\u001b[0m\n\u001b[1;32m    167\u001b[0m         \u001b[0mgc\u001b[0m\u001b[0;34m.\u001b[0m\u001b[0mdisable\u001b[0m\u001b[0;34m(\u001b[0m\u001b[0;34m)\u001b[0m\u001b[0;34m\u001b[0m\u001b[0;34m\u001b[0m\u001b[0m\n\u001b[1;32m    168\u001b[0m         \u001b[0;32mtry\u001b[0m\u001b[0;34m:\u001b[0m\u001b[0;34m\u001b[0m\u001b[0;34m\u001b[0m\u001b[0m\n\u001b[0;32m--> 169\u001b[0;31m             \u001b[0mtiming\u001b[0m \u001b[0;34m=\u001b[0m \u001b[0mself\u001b[0m\u001b[0;34m.\u001b[0m\u001b[0minner\u001b[0m\u001b[0;34m(\u001b[0m\u001b[0mit\u001b[0m\u001b[0;34m,\u001b[0m \u001b[0mself\u001b[0m\u001b[0;34m.\u001b[0m\u001b[0mtimer\u001b[0m\u001b[0;34m)\u001b[0m\u001b[0;34m\u001b[0m\u001b[0;34m\u001b[0m\u001b[0m\n\u001b[0m\u001b[1;32m    170\u001b[0m         \u001b[0;32mfinally\u001b[0m\u001b[0;34m:\u001b[0m\u001b[0;34m\u001b[0m\u001b[0;34m\u001b[0m\u001b[0m\n\u001b[1;32m    171\u001b[0m             \u001b[0;32mif\u001b[0m \u001b[0mgcold\u001b[0m\u001b[0;34m:\u001b[0m\u001b[0;34m\u001b[0m\u001b[0;34m\u001b[0m\u001b[0m\n",
      "\u001b[0;32m<magic-timeit>\u001b[0m in \u001b[0;36minner\u001b[0;34m(_it, _timer)\u001b[0m\n",
      "\u001b[0;32m~/.conda/envs/ricochet/lib/python3.7/site-packages/dopamine/discrete_domains/run_experiment.py\u001b[0m in \u001b[0;36mrun_experiment\u001b[0;34m(self)\u001b[0m\n\u001b[1;32m    521\u001b[0m \u001b[0;34m\u001b[0m\u001b[0m\n\u001b[1;32m    522\u001b[0m     \u001b[0;32mfor\u001b[0m \u001b[0miteration\u001b[0m \u001b[0;32min\u001b[0m \u001b[0mrange\u001b[0m\u001b[0;34m(\u001b[0m\u001b[0mself\u001b[0m\u001b[0;34m.\u001b[0m\u001b[0m_start_iteration\u001b[0m\u001b[0;34m,\u001b[0m \u001b[0mself\u001b[0m\u001b[0;34m.\u001b[0m\u001b[0m_num_iterations\u001b[0m\u001b[0;34m)\u001b[0m\u001b[0;34m:\u001b[0m\u001b[0;34m\u001b[0m\u001b[0;34m\u001b[0m\u001b[0m\n\u001b[0;32m--> 523\u001b[0;31m       \u001b[0mstatistics\u001b[0m \u001b[0;34m=\u001b[0m \u001b[0mself\u001b[0m\u001b[0;34m.\u001b[0m\u001b[0m_run_one_iteration\u001b[0m\u001b[0;34m(\u001b[0m\u001b[0miteration\u001b[0m\u001b[0;34m)\u001b[0m\u001b[0;34m\u001b[0m\u001b[0;34m\u001b[0m\u001b[0m\n\u001b[0m\u001b[1;32m    524\u001b[0m       \u001b[0mself\u001b[0m\u001b[0;34m.\u001b[0m\u001b[0m_log_experiment\u001b[0m\u001b[0;34m(\u001b[0m\u001b[0miteration\u001b[0m\u001b[0;34m,\u001b[0m \u001b[0mstatistics\u001b[0m\u001b[0;34m)\u001b[0m\u001b[0;34m\u001b[0m\u001b[0;34m\u001b[0m\u001b[0m\n\u001b[1;32m    525\u001b[0m       \u001b[0mself\u001b[0m\u001b[0;34m.\u001b[0m\u001b[0m_checkpoint_experiment\u001b[0m\u001b[0;34m(\u001b[0m\u001b[0miteration\u001b[0m\u001b[0;34m)\u001b[0m\u001b[0;34m\u001b[0m\u001b[0;34m\u001b[0m\u001b[0m\n",
      "\u001b[0;32m~/.conda/envs/ricochet/lib/python3.7/site-packages/dopamine/discrete_domains/run_experiment.py\u001b[0m in \u001b[0;36m_run_one_iteration\u001b[0;34m(self, iteration)\u001b[0m\n\u001b[1;32m    568\u001b[0m     \u001b[0mstatistics\u001b[0m \u001b[0;34m=\u001b[0m \u001b[0miteration_statistics\u001b[0m\u001b[0;34m.\u001b[0m\u001b[0mIterationStatistics\u001b[0m\u001b[0;34m(\u001b[0m\u001b[0;34m)\u001b[0m\u001b[0;34m\u001b[0m\u001b[0;34m\u001b[0m\u001b[0m\n\u001b[1;32m    569\u001b[0m     num_episodes_train, average_reward_train, average_steps_per_second = (\n\u001b[0;32m--> 570\u001b[0;31m         self._run_train_phase(statistics))\n\u001b[0m\u001b[1;32m    571\u001b[0m \u001b[0;34m\u001b[0m\u001b[0m\n\u001b[1;32m    572\u001b[0m     self._save_tensorboard_summaries(iteration, num_episodes_train,\n",
      "\u001b[0;32m~/.conda/envs/ricochet/lib/python3.7/site-packages/dopamine/discrete_domains/run_experiment.py\u001b[0m in \u001b[0;36m_run_train_phase\u001b[0;34m(self, statistics)\u001b[0m\n\u001b[1;32m    396\u001b[0m     \u001b[0mstart_time\u001b[0m \u001b[0;34m=\u001b[0m \u001b[0mtime\u001b[0m\u001b[0;34m.\u001b[0m\u001b[0mtime\u001b[0m\u001b[0;34m(\u001b[0m\u001b[0;34m)\u001b[0m\u001b[0;34m\u001b[0m\u001b[0;34m\u001b[0m\u001b[0m\n\u001b[1;32m    397\u001b[0m     number_steps, sum_returns, num_episodes = self._run_one_phase(\n\u001b[0;32m--> 398\u001b[0;31m         self._training_steps, statistics, 'train')\n\u001b[0m\u001b[1;32m    399\u001b[0m     \u001b[0maverage_return\u001b[0m \u001b[0;34m=\u001b[0m \u001b[0msum_returns\u001b[0m \u001b[0;34m/\u001b[0m \u001b[0mnum_episodes\u001b[0m \u001b[0;32mif\u001b[0m \u001b[0mnum_episodes\u001b[0m \u001b[0;34m>\u001b[0m \u001b[0;36m0\u001b[0m \u001b[0;32melse\u001b[0m \u001b[0;36m0.0\u001b[0m\u001b[0;34m\u001b[0m\u001b[0;34m\u001b[0m\u001b[0m\n\u001b[1;32m    400\u001b[0m     \u001b[0mstatistics\u001b[0m\u001b[0;34m.\u001b[0m\u001b[0mappend\u001b[0m\u001b[0;34m(\u001b[0m\u001b[0;34m{\u001b[0m\u001b[0;34m'train_average_return'\u001b[0m\u001b[0;34m:\u001b[0m \u001b[0maverage_return\u001b[0m\u001b[0;34m}\u001b[0m\u001b[0;34m)\u001b[0m\u001b[0;34m\u001b[0m\u001b[0;34m\u001b[0m\u001b[0m\n",
      "\u001b[0;32m~/.conda/envs/ricochet/lib/python3.7/site-packages/dopamine/discrete_domains/run_experiment.py\u001b[0m in \u001b[0;36m_run_one_phase\u001b[0;34m(self, min_steps, statistics, run_mode_str)\u001b[0m\n\u001b[1;32m    364\u001b[0m \u001b[0;34m\u001b[0m\u001b[0m\n\u001b[1;32m    365\u001b[0m     \u001b[0;32mwhile\u001b[0m \u001b[0mstep_count\u001b[0m \u001b[0;34m<\u001b[0m \u001b[0mmin_steps\u001b[0m\u001b[0;34m:\u001b[0m\u001b[0;34m\u001b[0m\u001b[0;34m\u001b[0m\u001b[0m\n\u001b[0;32m--> 366\u001b[0;31m       \u001b[0mepisode_length\u001b[0m\u001b[0;34m,\u001b[0m \u001b[0mepisode_return\u001b[0m \u001b[0;34m=\u001b[0m \u001b[0mself\u001b[0m\u001b[0;34m.\u001b[0m\u001b[0m_run_one_episode\u001b[0m\u001b[0;34m(\u001b[0m\u001b[0;34m)\u001b[0m\u001b[0;34m\u001b[0m\u001b[0;34m\u001b[0m\u001b[0m\n\u001b[0m\u001b[1;32m    367\u001b[0m       statistics.append({\n\u001b[1;32m    368\u001b[0m           \u001b[0;34m'{}_episode_lengths'\u001b[0m\u001b[0;34m.\u001b[0m\u001b[0mformat\u001b[0m\u001b[0;34m(\u001b[0m\u001b[0mrun_mode_str\u001b[0m\u001b[0;34m)\u001b[0m\u001b[0;34m:\u001b[0m \u001b[0mepisode_length\u001b[0m\u001b[0;34m,\u001b[0m\u001b[0;34m\u001b[0m\u001b[0;34m\u001b[0m\u001b[0m\n",
      "\u001b[0;32m~/.conda/envs/ricochet/lib/python3.7/site-packages/dopamine/discrete_domains/run_experiment.py\u001b[0m in \u001b[0;36m_run_one_episode\u001b[0;34m(self)\u001b[0m\n\u001b[1;32m    313\u001b[0m     \u001b[0mtotal_reward\u001b[0m \u001b[0;34m=\u001b[0m \u001b[0;36m0.\u001b[0m\u001b[0;34m\u001b[0m\u001b[0;34m\u001b[0m\u001b[0m\n\u001b[1;32m    314\u001b[0m \u001b[0;34m\u001b[0m\u001b[0m\n\u001b[0;32m--> 315\u001b[0;31m     \u001b[0maction\u001b[0m \u001b[0;34m=\u001b[0m \u001b[0mself\u001b[0m\u001b[0;34m.\u001b[0m\u001b[0m_initialize_episode\u001b[0m\u001b[0;34m(\u001b[0m\u001b[0;34m)\u001b[0m\u001b[0;34m\u001b[0m\u001b[0;34m\u001b[0m\u001b[0m\n\u001b[0m\u001b[1;32m    316\u001b[0m     \u001b[0mis_terminal\u001b[0m \u001b[0;34m=\u001b[0m \u001b[0;32mFalse\u001b[0m\u001b[0;34m\u001b[0m\u001b[0;34m\u001b[0m\u001b[0m\n\u001b[1;32m    317\u001b[0m \u001b[0;34m\u001b[0m\u001b[0m\n",
      "\u001b[0;32m~/.conda/envs/ricochet/lib/python3.7/site-packages/dopamine/discrete_domains/run_experiment.py\u001b[0m in \u001b[0;36m_initialize_episode\u001b[0;34m(self)\u001b[0m\n\u001b[1;32m    276\u001b[0m     \"\"\"\n\u001b[1;32m    277\u001b[0m     \u001b[0minitial_observation\u001b[0m \u001b[0;34m=\u001b[0m \u001b[0mself\u001b[0m\u001b[0;34m.\u001b[0m\u001b[0m_environment\u001b[0m\u001b[0;34m.\u001b[0m\u001b[0mreset\u001b[0m\u001b[0;34m(\u001b[0m\u001b[0;34m)\u001b[0m\u001b[0;34m\u001b[0m\u001b[0;34m\u001b[0m\u001b[0m\n\u001b[0;32m--> 278\u001b[0;31m     \u001b[0;32mreturn\u001b[0m \u001b[0mself\u001b[0m\u001b[0;34m.\u001b[0m\u001b[0m_agent\u001b[0m\u001b[0;34m.\u001b[0m\u001b[0mbegin_episode\u001b[0m\u001b[0;34m(\u001b[0m\u001b[0minitial_observation\u001b[0m\u001b[0;34m)\u001b[0m\u001b[0;34m\u001b[0m\u001b[0;34m\u001b[0m\u001b[0m\n\u001b[0m\u001b[1;32m    279\u001b[0m \u001b[0;34m\u001b[0m\u001b[0m\n\u001b[1;32m    280\u001b[0m   \u001b[0;32mdef\u001b[0m \u001b[0m_run_one_step\u001b[0m\u001b[0;34m(\u001b[0m\u001b[0mself\u001b[0m\u001b[0;34m,\u001b[0m \u001b[0maction\u001b[0m\u001b[0;34m)\u001b[0m\u001b[0;34m:\u001b[0m\u001b[0;34m\u001b[0m\u001b[0;34m\u001b[0m\u001b[0m\n",
      "\u001b[0;32m~/.conda/envs/ricochet/lib/python3.7/site-packages/dopamine/agents/dqn/dqn_agent.py\u001b[0m in \u001b[0;36mbegin_episode\u001b[0;34m(self, observation)\u001b[0m\n\u001b[1;32m    346\u001b[0m \u001b[0;34m\u001b[0m\u001b[0m\n\u001b[1;32m    347\u001b[0m     \u001b[0;32mif\u001b[0m \u001b[0;32mnot\u001b[0m \u001b[0mself\u001b[0m\u001b[0;34m.\u001b[0m\u001b[0meval_mode\u001b[0m\u001b[0;34m:\u001b[0m\u001b[0;34m\u001b[0m\u001b[0;34m\u001b[0m\u001b[0m\n\u001b[0;32m--> 348\u001b[0;31m       \u001b[0mself\u001b[0m\u001b[0;34m.\u001b[0m\u001b[0m_train_step\u001b[0m\u001b[0;34m(\u001b[0m\u001b[0;34m)\u001b[0m\u001b[0;34m\u001b[0m\u001b[0;34m\u001b[0m\u001b[0m\n\u001b[0m\u001b[1;32m    349\u001b[0m \u001b[0;34m\u001b[0m\u001b[0m\n\u001b[1;32m    350\u001b[0m     \u001b[0mself\u001b[0m\u001b[0;34m.\u001b[0m\u001b[0maction\u001b[0m \u001b[0;34m=\u001b[0m \u001b[0mself\u001b[0m\u001b[0;34m.\u001b[0m\u001b[0m_select_action\u001b[0m\u001b[0;34m(\u001b[0m\u001b[0;34m)\u001b[0m\u001b[0;34m\u001b[0m\u001b[0;34m\u001b[0m\u001b[0m\n",
      "\u001b[0;32m~/.conda/envs/ricochet/lib/python3.7/site-packages/dopamine/agents/dqn/dqn_agent.py\u001b[0m in \u001b[0;36m_train_step\u001b[0;34m(self)\u001b[0m\n\u001b[1;32m    424\u001b[0m     \u001b[0;32mif\u001b[0m \u001b[0mself\u001b[0m\u001b[0;34m.\u001b[0m\u001b[0m_replay\u001b[0m\u001b[0;34m.\u001b[0m\u001b[0mmemory\u001b[0m\u001b[0;34m.\u001b[0m\u001b[0madd_count\u001b[0m \u001b[0;34m>\u001b[0m \u001b[0mself\u001b[0m\u001b[0;34m.\u001b[0m\u001b[0mmin_replay_history\u001b[0m\u001b[0;34m:\u001b[0m\u001b[0;34m\u001b[0m\u001b[0;34m\u001b[0m\u001b[0m\n\u001b[1;32m    425\u001b[0m       \u001b[0;32mif\u001b[0m \u001b[0mself\u001b[0m\u001b[0;34m.\u001b[0m\u001b[0mtraining_steps\u001b[0m \u001b[0;34m%\u001b[0m \u001b[0mself\u001b[0m\u001b[0;34m.\u001b[0m\u001b[0mupdate_period\u001b[0m \u001b[0;34m==\u001b[0m \u001b[0;36m0\u001b[0m\u001b[0;34m:\u001b[0m\u001b[0;34m\u001b[0m\u001b[0;34m\u001b[0m\u001b[0m\n\u001b[0;32m--> 426\u001b[0;31m         \u001b[0mself\u001b[0m\u001b[0;34m.\u001b[0m\u001b[0m_sess\u001b[0m\u001b[0;34m.\u001b[0m\u001b[0mrun\u001b[0m\u001b[0;34m(\u001b[0m\u001b[0mself\u001b[0m\u001b[0;34m.\u001b[0m\u001b[0m_train_op\u001b[0m\u001b[0;34m)\u001b[0m\u001b[0;34m\u001b[0m\u001b[0;34m\u001b[0m\u001b[0m\n\u001b[0m\u001b[1;32m    427\u001b[0m         if (self.summary_writer is not None and\n\u001b[1;32m    428\u001b[0m             \u001b[0mself\u001b[0m\u001b[0;34m.\u001b[0m\u001b[0mtraining_steps\u001b[0m \u001b[0;34m>\u001b[0m \u001b[0;36m0\u001b[0m \u001b[0;32mand\u001b[0m\u001b[0;34m\u001b[0m\u001b[0;34m\u001b[0m\u001b[0m\n",
      "\u001b[0;32m~/.conda/envs/ricochet/lib/python3.7/site-packages/tensorflow/python/client/session.py\u001b[0m in \u001b[0;36mrun\u001b[0;34m(self, fetches, feed_dict, options, run_metadata)\u001b[0m\n\u001b[1;32m    966\u001b[0m     \u001b[0;32mtry\u001b[0m\u001b[0;34m:\u001b[0m\u001b[0;34m\u001b[0m\u001b[0;34m\u001b[0m\u001b[0m\n\u001b[1;32m    967\u001b[0m       result = self._run(None, fetches, feed_dict, options_ptr,\n\u001b[0;32m--> 968\u001b[0;31m                          run_metadata_ptr)\n\u001b[0m\u001b[1;32m    969\u001b[0m       \u001b[0;32mif\u001b[0m \u001b[0mrun_metadata\u001b[0m\u001b[0;34m:\u001b[0m\u001b[0;34m\u001b[0m\u001b[0;34m\u001b[0m\u001b[0m\n\u001b[1;32m    970\u001b[0m         \u001b[0mproto_data\u001b[0m \u001b[0;34m=\u001b[0m \u001b[0mtf_session\u001b[0m\u001b[0;34m.\u001b[0m\u001b[0mTF_GetBuffer\u001b[0m\u001b[0;34m(\u001b[0m\u001b[0mrun_metadata_ptr\u001b[0m\u001b[0;34m)\u001b[0m\u001b[0;34m\u001b[0m\u001b[0;34m\u001b[0m\u001b[0m\n",
      "\u001b[0;32m~/.conda/envs/ricochet/lib/python3.7/site-packages/tensorflow/python/client/session.py\u001b[0m in \u001b[0;36m_run\u001b[0;34m(self, handle, fetches, feed_dict, options, run_metadata)\u001b[0m\n\u001b[1;32m   1189\u001b[0m     \u001b[0;32mif\u001b[0m \u001b[0mfinal_fetches\u001b[0m \u001b[0;32mor\u001b[0m \u001b[0mfinal_targets\u001b[0m \u001b[0;32mor\u001b[0m \u001b[0;34m(\u001b[0m\u001b[0mhandle\u001b[0m \u001b[0;32mand\u001b[0m \u001b[0mfeed_dict_tensor\u001b[0m\u001b[0;34m)\u001b[0m\u001b[0;34m:\u001b[0m\u001b[0;34m\u001b[0m\u001b[0;34m\u001b[0m\u001b[0m\n\u001b[1;32m   1190\u001b[0m       results = self._do_run(handle, final_targets, final_fetches,\n\u001b[0;32m-> 1191\u001b[0;31m                              feed_dict_tensor, options, run_metadata)\n\u001b[0m\u001b[1;32m   1192\u001b[0m     \u001b[0;32melse\u001b[0m\u001b[0;34m:\u001b[0m\u001b[0;34m\u001b[0m\u001b[0;34m\u001b[0m\u001b[0m\n\u001b[1;32m   1193\u001b[0m       \u001b[0mresults\u001b[0m \u001b[0;34m=\u001b[0m \u001b[0;34m[\u001b[0m\u001b[0;34m]\u001b[0m\u001b[0;34m\u001b[0m\u001b[0;34m\u001b[0m\u001b[0m\n",
      "\u001b[0;32m~/.conda/envs/ricochet/lib/python3.7/site-packages/tensorflow/python/client/session.py\u001b[0m in \u001b[0;36m_do_run\u001b[0;34m(self, handle, target_list, fetch_list, feed_dict, options, run_metadata)\u001b[0m\n\u001b[1;32m   1367\u001b[0m     \u001b[0;32mif\u001b[0m \u001b[0mhandle\u001b[0m \u001b[0;32mis\u001b[0m \u001b[0;32mNone\u001b[0m\u001b[0;34m:\u001b[0m\u001b[0;34m\u001b[0m\u001b[0;34m\u001b[0m\u001b[0m\n\u001b[1;32m   1368\u001b[0m       return self._do_call(_run_fn, feeds, fetches, targets, options,\n\u001b[0;32m-> 1369\u001b[0;31m                            run_metadata)\n\u001b[0m\u001b[1;32m   1370\u001b[0m     \u001b[0;32melse\u001b[0m\u001b[0;34m:\u001b[0m\u001b[0;34m\u001b[0m\u001b[0;34m\u001b[0m\u001b[0m\n\u001b[1;32m   1371\u001b[0m       \u001b[0;32mreturn\u001b[0m \u001b[0mself\u001b[0m\u001b[0;34m.\u001b[0m\u001b[0m_do_call\u001b[0m\u001b[0;34m(\u001b[0m\u001b[0m_prun_fn\u001b[0m\u001b[0;34m,\u001b[0m \u001b[0mhandle\u001b[0m\u001b[0;34m,\u001b[0m \u001b[0mfeeds\u001b[0m\u001b[0;34m,\u001b[0m \u001b[0mfetches\u001b[0m\u001b[0;34m)\u001b[0m\u001b[0;34m\u001b[0m\u001b[0;34m\u001b[0m\u001b[0m\n",
      "\u001b[0;32m~/.conda/envs/ricochet/lib/python3.7/site-packages/tensorflow/python/client/session.py\u001b[0m in \u001b[0;36m_do_call\u001b[0;34m(self, fn, *args)\u001b[0m\n\u001b[1;32m   1373\u001b[0m   \u001b[0;32mdef\u001b[0m \u001b[0m_do_call\u001b[0m\u001b[0;34m(\u001b[0m\u001b[0mself\u001b[0m\u001b[0;34m,\u001b[0m \u001b[0mfn\u001b[0m\u001b[0;34m,\u001b[0m \u001b[0;34m*\u001b[0m\u001b[0margs\u001b[0m\u001b[0;34m)\u001b[0m\u001b[0;34m:\u001b[0m\u001b[0;34m\u001b[0m\u001b[0;34m\u001b[0m\u001b[0m\n\u001b[1;32m   1374\u001b[0m     \u001b[0;32mtry\u001b[0m\u001b[0;34m:\u001b[0m\u001b[0;34m\u001b[0m\u001b[0;34m\u001b[0m\u001b[0m\n\u001b[0;32m-> 1375\u001b[0;31m       \u001b[0;32mreturn\u001b[0m \u001b[0mfn\u001b[0m\u001b[0;34m(\u001b[0m\u001b[0;34m*\u001b[0m\u001b[0margs\u001b[0m\u001b[0;34m)\u001b[0m\u001b[0;34m\u001b[0m\u001b[0;34m\u001b[0m\u001b[0m\n\u001b[0m\u001b[1;32m   1376\u001b[0m     \u001b[0;32mexcept\u001b[0m \u001b[0merrors\u001b[0m\u001b[0;34m.\u001b[0m\u001b[0mOpError\u001b[0m \u001b[0;32mas\u001b[0m \u001b[0me\u001b[0m\u001b[0;34m:\u001b[0m\u001b[0;34m\u001b[0m\u001b[0;34m\u001b[0m\u001b[0m\n\u001b[1;32m   1377\u001b[0m       \u001b[0mmessage\u001b[0m \u001b[0;34m=\u001b[0m \u001b[0mcompat\u001b[0m\u001b[0;34m.\u001b[0m\u001b[0mas_text\u001b[0m\u001b[0;34m(\u001b[0m\u001b[0me\u001b[0m\u001b[0;34m.\u001b[0m\u001b[0mmessage\u001b[0m\u001b[0;34m)\u001b[0m\u001b[0;34m\u001b[0m\u001b[0;34m\u001b[0m\u001b[0m\n",
      "\u001b[0;32m~/.conda/envs/ricochet/lib/python3.7/site-packages/tensorflow/python/client/session.py\u001b[0m in \u001b[0;36m_run_fn\u001b[0;34m(feed_dict, fetch_list, target_list, options, run_metadata)\u001b[0m\n\u001b[1;32m   1358\u001b[0m       \u001b[0mself\u001b[0m\u001b[0;34m.\u001b[0m\u001b[0m_extend_graph\u001b[0m\u001b[0;34m(\u001b[0m\u001b[0;34m)\u001b[0m\u001b[0;34m\u001b[0m\u001b[0;34m\u001b[0m\u001b[0m\n\u001b[1;32m   1359\u001b[0m       return self._call_tf_sessionrun(options, feed_dict, fetch_list,\n\u001b[0;32m-> 1360\u001b[0;31m                                       target_list, run_metadata)\n\u001b[0m\u001b[1;32m   1361\u001b[0m \u001b[0;34m\u001b[0m\u001b[0m\n\u001b[1;32m   1362\u001b[0m     \u001b[0;32mdef\u001b[0m \u001b[0m_prun_fn\u001b[0m\u001b[0;34m(\u001b[0m\u001b[0mhandle\u001b[0m\u001b[0;34m,\u001b[0m \u001b[0mfeed_dict\u001b[0m\u001b[0;34m,\u001b[0m \u001b[0mfetch_list\u001b[0m\u001b[0;34m)\u001b[0m\u001b[0;34m:\u001b[0m\u001b[0;34m\u001b[0m\u001b[0;34m\u001b[0m\u001b[0m\n",
      "\u001b[0;32m~/.conda/envs/ricochet/lib/python3.7/site-packages/tensorflow/python/client/session.py\u001b[0m in \u001b[0;36m_call_tf_sessionrun\u001b[0;34m(self, options, feed_dict, fetch_list, target_list, run_metadata)\u001b[0m\n\u001b[1;32m   1451\u001b[0m     return tf_session.TF_SessionRun_wrapper(self._session, options, feed_dict,\n\u001b[1;32m   1452\u001b[0m                                             \u001b[0mfetch_list\u001b[0m\u001b[0;34m,\u001b[0m \u001b[0mtarget_list\u001b[0m\u001b[0;34m,\u001b[0m\u001b[0;34m\u001b[0m\u001b[0;34m\u001b[0m\u001b[0m\n\u001b[0;32m-> 1453\u001b[0;31m                                             run_metadata)\n\u001b[0m\u001b[1;32m   1454\u001b[0m \u001b[0;34m\u001b[0m\u001b[0m\n\u001b[1;32m   1455\u001b[0m   \u001b[0;32mdef\u001b[0m \u001b[0m_call_tf_sessionprun\u001b[0m\u001b[0;34m(\u001b[0m\u001b[0mself\u001b[0m\u001b[0;34m,\u001b[0m \u001b[0mhandle\u001b[0m\u001b[0;34m,\u001b[0m \u001b[0mfeed_dict\u001b[0m\u001b[0;34m,\u001b[0m \u001b[0mfetch_list\u001b[0m\u001b[0;34m)\u001b[0m\u001b[0;34m:\u001b[0m\u001b[0;34m\u001b[0m\u001b[0;34m\u001b[0m\u001b[0m\n",
      "\u001b[0;31mKeyboardInterrupt\u001b[0m: "
     ]
    }
   ],
   "source": [
    "%%timeit -n1 -r1\n",
    "\n",
    "dqn_runner = run_experiment.create_runner(RAINBOW_PATH, schedule='continuous_train')\n",
    "print('Will train Rainbow agent, please be patient, may be a while...')\n",
    "dqn_runner.run_experiment()\n",
    "print('Done training!')"
   ]
  },
  {
   "cell_type": "code",
   "execution_count": 11,
   "id": "upper-event",
   "metadata": {},
   "outputs": [
    {
     "name": "stdout",
     "output_type": "stream",
     "text": [
      "Reading statistics from: ./ricochet_runs/rainbow-easy-random-robots//logs/log_237\n",
      "Index(['iteration', 'train_episode_lengths', 'train_episode_returns',\n",
      "       'train_average_return', 'run'],\n",
      "      dtype='object')\n"
     ]
    },
    {
     "data": {
      "image/png": "[encoded data removed]",
      "text/plain": [
       "<Figure size 1152x576 with 1 Axes>"
      ]
     },
     "metadata": {
      "needs_background": "light"
     },
     "output_type": "display_data"
    },
    {
     "data": {
      "image/png": "[encoded data removed]",
      "text/plain": [
       "<Figure size 1152x576 with 1 Axes>"
      ]
     },
     "metadata": {
      "needs_background": "light"
     },
     "output_type": "display_data"
    }
   ],
   "source": [
    "import seaborn as sns\n",
    "import matplotlib.pyplot as plt\n",
    "from dopamine.colab import utils as colab_utils\n",
    "\n",
    "data = colab_utils.read_experiment(RAINBOW_PATH, verbose=True, \n",
    "                                   summary_keys=['train_episode_lengths',\n",
    "                                                 'train_episode_returns',\n",
    "                                                 'train_average_return'])\n",
    "data['run'] = 1\n",
    "\n",
    "fig, ax = plt.subplots(figsize=(16,8))\n",
    "sns.lineplot(x='iteration', y='train_episode_returns', data=data, ax=ax)\n",
    "plt.title('RicochetRobots')\n",
    "plt.show()\n",
    "\n",
    "fig, ax = plt.subplots(figsize=(16,8))\n",
    "sns.lineplot(x='iteration', y='train_episode_lengths', data=data, ax=ax)\n",
    "plt.title('RicochetRobots')\n",
    "plt.show()"
   ]
  },
  {
   "cell_type": "code",
   "execution_count": 17,
   "id": "union-victor",
   "metadata": {},
   "outputs": [],
   "source": [
    "import pandas as pd\n",
    "data.to_csv(os.path.join(RAINBOW_PATH, 'data.csv'))"
   ]
  }
 ],
 "metadata": {
  "kernelspec": {
   "display_name": "Python 3",
   "language": "python",
   "name": "python3"
  },
  "language_info": {
   "codemirror_mode": {
    "name": "ipython",
    "version": 3
   },
   "file_extension": ".py",
   "mimetype": "text/x-python",
   "name": "python",
   "nbconvert_exporter": "python",
   "pygments_lexer": "ipython3",
   "version": "3.7.10"
  }
 },
 "nbformat": 4,
 "nbformat_minor": 5
}